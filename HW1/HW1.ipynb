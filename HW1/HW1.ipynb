{
 "cells": [
  {
   "cell_type": "markdown",
   "id": "4f481cc9-abd9-4717-be88-e904b3bc5861",
   "metadata": {},
   "source": [
    "# Homework 1\n",
    "\n",
    "## About me\n",
    "Hello! I'm Noël Svahn, eager explorer of data and stuff \n",
    "\n",
    "## Previous experience \n",
    "Complete noob! No prior experience in using github, a little exp in R and a little exp in python. Looking forward to learn more! \n",
    "Previous courses: Statistical Inference Theory\n",
    "                  Statistical Analysis \n",
    "                  Probability Theory + Some other math courses \n",
    "                  Programming I "
   ]
  }
 ],
 "metadata": {
  "kernelspec": {
   "display_name": "Python 3 (ipykernel)",
   "language": "python",
   "name": "python3"
  },
  "language_info": {
   "codemirror_mode": {
    "name": "ipython",
    "version": 3
   },
   "file_extension": ".py",
   "mimetype": "text/x-python",
   "name": "python",
   "nbconvert_exporter": "python",
   "pygments_lexer": "ipython3",
   "version": "3.11.5"
  }
 },
 "nbformat": 4,
 "nbformat_minor": 5
}
