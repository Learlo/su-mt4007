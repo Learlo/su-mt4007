{
 "cells": [
  {
   "cell_type": "code",
   "execution_count": 61,
   "id": "f055b88f-a0b7-4bae-acca-7d5796571e3d",
   "metadata": {},
   "outputs": [
    {
     "name": "stdout",
     "output_type": "stream",
     "text": [
      "0: listPrice\n",
      "1: rent\n",
      "2: livingArea\n",
      "3: rooms\n",
      "4: published\n",
      "5: constructionYear\n",
      "6: objectType\n",
      "7: booliId\n",
      "8: soldDate\n",
      "9: soldPrice\n",
      "10: soldPriceSource\n",
      "11: url\n",
      "12: floor\n",
      "13: additionalArea\n",
      "14: apartmentNumber\n",
      "15: plotArea\n",
      "16: location.address.streetAddress\n",
      "17: location.position.latitude\n",
      "18: location.position.longitude\n",
      "19: location.position.isApproximate\n",
      "20: location.region.municipalityName\n",
      "21: location.region.countyName\n",
      "22: location.distance.ocean\n",
      "23: source.name\n",
      "24: source.id\n",
      "25: source.type\n",
      "26: source.url\n"
     ]
    }
   ],
   "source": [
    "import pandas as pd\n",
    "\n",
    "# Data over apartment prices\n",
    "booli_data = pd.read_csv('Booli_sold.csv')\n",
    "\n",
    "# Prints column number and column name for navigation\n",
    "for idx, col_name in enumerate(booli_data.columns):\n",
    "    print(f\"{idx}: {col_name}\")\n"
   ]
  },
  {
   "cell_type": "code",
   "execution_count": 44,
   "id": "30be45fb",
   "metadata": {},
   "outputs": [
    {
     "name": "stdout",
     "output_type": "stream",
     "text": [
      "0: listPrice\n",
      "1: rent\n",
      "2: livingArea\n",
      "3: rooms\n",
      "4: published\n",
      "5: constructionYear\n",
      "6: objectType\n",
      "7: soldDate\n",
      "8: soldPrice\n",
      "9: soldPriceSource\n",
      "10: floor\n",
      "11: additionalArea\n",
      "12: apartmentNumber\n",
      "13: location.address.streetAddress\n",
      "14: location.position.latitude\n",
      "15: location.position.longitude\n",
      "16: location.position.isApproximate\n",
      "17: location.region.municipalityName\n",
      "18: location.region.countyName\n",
      "19: location.distance.ocean\n",
      "20: source.url\n"
     ]
    }
   ],
   "source": [
    "# Cleaning the data\n",
    "\n",
    "booli_data_cleaned = pd.read_csv('Booli_sold.csv', usecols = [0,1,2,3,4,5,6,8,9,10,12,13,14,16,17,18,19,20,21,22,26])\n",
    "\n",
    "for idx, col_name in enumerate(booli_data_cleaned.columns):\n",
    "    print(f\"{idx}: {col_name}\")"
   ]
  },
  {
   "cell_type": "code",
   "execution_count": 52,
   "id": "9a112305",
   "metadata": {},
   "outputs": [],
   "source": [
    "# Calculate price per sqm \n",
    "booli_data_cleaned['price_per_sqm'] = booli_data_cleaned['soldPrice'] / booli_data_cleaned['livingArea']\n",
    "\n",
    "# Create a new file with cleaned data and a price per sqm column. \n",
    "booli_data_cleaned.to_csv('Booli_with_price_per_sqm.csv', index=False)\n"
   ]
  },
  {
   "cell_type": "code",
   "execution_count": 59,
   "id": "93b62d2b",
   "metadata": {
    "scrolled": true
   },
   "outputs": [
    {
     "name": "stdout",
     "output_type": "stream",
     "text": [
      "     soldPrice  price_per_sqm location.address.streetAddress  rooms    rent\n",
      "67     2500000  104166.666667                  Ekhagsvägen 8    1.0  1464.0\n",
      "50     2450000  102083.333333                  Ekhagsvägen 8    1.0  1464.0\n",
      "54     2300000  100000.000000                 Ekhagsvägen 10    1.0  1374.0\n",
      "34     2210000   88400.000000                Torphagsvägen 4    1.0  1144.0\n",
      "55     2300000   85501.858736                Docentbacken 1B    1.0  1522.0\n",
      "..         ...            ...                            ...    ...     ...\n",
      "93     3570000   39230.769231                  Ekhagsvägen 5    4.0  4529.0\n",
      "141    2570000   37246.376812                  Ekhagsvägen 6    2.0  3530.0\n",
      "146    3500000   35714.285714                 Docentbacken 5    3.0  4251.0\n",
      "151    2250000   35714.285714                Docentbacken 13    2.0  2835.0\n",
      "102    3135000            NaN                  Ekhagsvägen 5    4.0  4529.0\n",
      "\n",
      "[158 rows x 5 columns]\n"
     ]
    }
   ],
   "source": [
    "# Sorting the data \n",
    "\n",
    "# Top 5 most expensive price per sqm \n",
    "top_5_expensive = booli_data_cleaned.sort_values(by='price_per_sqm', ascending = False).head(5)\n",
    "print(top_5_expensive[['soldPrice', 'price_per_sqm', 'location.address.streetAddress', 'rooms', 'rent']])\n",
    "\n",
    "top_5_expensive.to_csv('Booli_PPSQM_sorted.csv', index=False)"
   ]
  },
  {
   "cell_type": "code",
   "execution_count": 51,
   "id": "c685de55",
   "metadata": {},
   "outputs": [
    {
     "name": "stdout",
     "output_type": "stream",
     "text": [
      "Average price per sqm in Ekhagen is:  58759.382760081724 kr\n"
     ]
    }
   ],
   "source": [
    "ekhagen_data = booli_data_cleaned\n",
    "\n",
    "#Calculate average ppsqm for ekhagen\n",
    "ekhagen_ppsqm = ekhagen_data['price_per_sqm'].mean()\n",
    "\n",
    "print(\"Average price per sqm in Ekhagen is: \", ekhagen_ppsqm, \"kr\")\n",
    "\n"
   ]
  },
  {
   "cell_type": "markdown",
   "id": "317df110",
   "metadata": {},
   "source": [
    "Looking at the data it is interesting to me personally that distance to the ocean has little to no impact on the price. Also that the price per sqm seem to increase a lot more for smaller apartments than bigger ones. "
   ]
  },
  {
   "cell_type": "code",
   "execution_count": null,
   "id": "dc5c5d98",
   "metadata": {},
   "outputs": [],
   "source": []
  }
 ],
 "metadata": {
  "kernelspec": {
   "display_name": "Python 3 (ipykernel)",
   "language": "python",
   "name": "python3"
  },
  "language_info": {
   "codemirror_mode": {
    "name": "ipython",
    "version": 3
   },
   "file_extension": ".py",
   "mimetype": "text/x-python",
   "name": "python",
   "nbconvert_exporter": "python",
   "pygments_lexer": "ipython3",
   "version": "3.11.5"
  }
 },
 "nbformat": 4,
 "nbformat_minor": 5
}
